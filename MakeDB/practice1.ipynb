{
 "cells": [
  {
   "cell_type": "code",
   "execution_count": 23,
   "metadata": {},
   "outputs": [],
   "source": [
    "import pandas as pd\n",
    "import re\n",
    "# 원본 데이터프레임 생성\n",
    "origin_data = [\n",
    "    ['DTA01','NMM01', '2024-07-26 23:40:50', 'B'],\n",
    "    ['DTA01','NMM01', '2024-07-27 01:41:54', 'A'],\n",
    "    ['DTA01','NMM02', '2024-07-27 02:23:52', 'B'],\n",
    "    ['DTA01','NMM02', '2024-07-27 02:46:50', 'A'],\n",
    "    ['DTA01','NMM31', '2024-07-27 03:40:50', 'B'],\n",
    "    ['DTA01','NMM31', '2024-07-27 04:41:54', 'A'],\n",
    "    ['DTA01','NMM40', '2024-07-27 05:23:52', 'B'],\n",
    "    ['DTA01','NMM40', '2024-07-27 06:46:50', 'A'],\n",
    "    ['DTB01','NMM40', '2024-06-22 02:15:51', 'A'],\n",
    "    ['DTB01','NMM35', '2024-06-22 02:51:52', 'B'],\n",
    "    ['DTB01','NMM35', '2024-06-23 03:20:12', 'A'],\n",
    "    ['DTB01','NMM15', '2024-06-23 04:40:35', 'B'],\n",
    "    ['DTB01','NMM15', '2024-06-23 04:56:15', 'A'],\n",
    "    ['DTB05','NMM15', '2024-06-23 13:40:10', 'B'],\n",
    "    ['DTB05','NMM15', '2024-06-23 13:56:11', 'A'],\n",
    "    ['DTB05','NMM20', '2024-06-23 14:13:16', 'A'],\n",
    "    ['DTB05','NMM21', '2024-06-23 14:34:16', 'A'],\n",
    "    ['DTB05','NMM34', '2024-06-23 14:48:19', 'B'],\n",
    "    ['DTB05','NMM34', '2024-06-23 15:32:14', 'A'],\n",
    "    ['DTB31','NMM15', '2024-06-23 11:40:10', 'B:1'],\n",
    "    ['DTB31','NMM17', '2024-06-24 11:56:11', 'B:2'],\n",
    "    ['DTB31','NMM17', '2024-06-24 12:13:16', 'A:2'],\n",
    "    ['DTB31','NMM15', '2024-06-25 12:48:19', 'A:1'],\n",
    "    ['DTB16','NMM74', '2024-06-23 11:40:10', 'B:1'],\n",
    "    ['DTB16','NMM62', '2024-06-24 11:56:11', 'B:2'],\n",
    "    ['DTB16','NMM62', '2024-06-24 12:13:16', 'A:2'],\n",
    "    ['DTB16','NMM74', '2024-06-25 12:48:19', 'A:1'],\n",
    "    ['DTB64','NMM85', '2024-06-23 17:15:10', 'B'],\n",
    "    ['DTB61','NMM13', '2024-06-10 15:14:10', 'B:1'],\n",
    "    ['DTC01','NMM12', '2024-01-16 12:40:50', 'A'],\n",
    "    ['DTC01','NMM18', '2024-03-26 21:50:40', 'A:2'],\n",
    "]\n",
    "\n",
    "df = pd.DataFrame(origin_data, columns=['eqp_id', 'lot_id', 'tkout_time','category'])\n",
    "\n",
    "# 숫자가 포함된 데이터를 분리\n",
    "df_with_number = df[df['category'].str.contains(':')]\n",
    "df_without_number = df[~df['category'].str.contains(':')]\n",
    "def extract_number(category):\n",
    "    match = re.search(r':(\\d+)', category)\n",
    "    return int(match.group(1)) if match else None\n"
   ]
  },
  {
   "cell_type": "code",
   "execution_count": 24,
   "metadata": {},
   "outputs": [],
   "source": [
    "processed_data_with_number = []\n",
    "current_b_with_number = None"
   ]
  },
  {
   "cell_type": "code",
   "execution_count": 27,
   "metadata": {},
   "outputs": [
    {
     "data": {
      "text/html": [
       "<div>\n",
       "<style scoped>\n",
       "    .dataframe tbody tr th:only-of-type {\n",
       "        vertical-align: middle;\n",
       "    }\n",
       "\n",
       "    .dataframe tbody tr th {\n",
       "        vertical-align: top;\n",
       "    }\n",
       "\n",
       "    .dataframe thead th {\n",
       "        text-align: right;\n",
       "    }\n",
       "</style>\n",
       "<table border=\"1\" class=\"dataframe\">\n",
       "  <thead>\n",
       "    <tr style=\"text-align: right;\">\n",
       "      <th></th>\n",
       "      <th>eqp_id</th>\n",
       "      <th>lot_id</th>\n",
       "      <th>tkout_time</th>\n",
       "      <th>category</th>\n",
       "    </tr>\n",
       "  </thead>\n",
       "  <tbody>\n",
       "    <tr>\n",
       "      <th>19</th>\n",
       "      <td>DTB31</td>\n",
       "      <td>NMM15</td>\n",
       "      <td>2024-06-23 11:40:10</td>\n",
       "      <td>B:1</td>\n",
       "    </tr>\n",
       "    <tr>\n",
       "      <th>20</th>\n",
       "      <td>DTB31</td>\n",
       "      <td>NMM17</td>\n",
       "      <td>2024-06-24 11:56:11</td>\n",
       "      <td>B:2</td>\n",
       "    </tr>\n",
       "    <tr>\n",
       "      <th>21</th>\n",
       "      <td>DTB31</td>\n",
       "      <td>NMM17</td>\n",
       "      <td>2024-06-24 12:13:16</td>\n",
       "      <td>A:2</td>\n",
       "    </tr>\n",
       "    <tr>\n",
       "      <th>22</th>\n",
       "      <td>DTB31</td>\n",
       "      <td>NMM15</td>\n",
       "      <td>2024-06-25 12:48:19</td>\n",
       "      <td>A:1</td>\n",
       "    </tr>\n",
       "    <tr>\n",
       "      <th>23</th>\n",
       "      <td>DTB16</td>\n",
       "      <td>NMM74</td>\n",
       "      <td>2024-06-23 11:40:10</td>\n",
       "      <td>B:1</td>\n",
       "    </tr>\n",
       "    <tr>\n",
       "      <th>24</th>\n",
       "      <td>DTB16</td>\n",
       "      <td>NMM62</td>\n",
       "      <td>2024-06-24 11:56:11</td>\n",
       "      <td>B:2</td>\n",
       "    </tr>\n",
       "    <tr>\n",
       "      <th>25</th>\n",
       "      <td>DTB16</td>\n",
       "      <td>NMM62</td>\n",
       "      <td>2024-06-24 12:13:16</td>\n",
       "      <td>A:2</td>\n",
       "    </tr>\n",
       "    <tr>\n",
       "      <th>26</th>\n",
       "      <td>DTB16</td>\n",
       "      <td>NMM74</td>\n",
       "      <td>2024-06-25 12:48:19</td>\n",
       "      <td>A:1</td>\n",
       "    </tr>\n",
       "    <tr>\n",
       "      <th>28</th>\n",
       "      <td>DTB61</td>\n",
       "      <td>NMM13</td>\n",
       "      <td>2024-06-10 15:14:10</td>\n",
       "      <td>B:1</td>\n",
       "    </tr>\n",
       "    <tr>\n",
       "      <th>30</th>\n",
       "      <td>DTC01</td>\n",
       "      <td>NMM18</td>\n",
       "      <td>2024-03-26 21:50:40</td>\n",
       "      <td>A:2</td>\n",
       "    </tr>\n",
       "  </tbody>\n",
       "</table>\n",
       "</div>"
      ],
      "text/plain": [
       "   eqp_id lot_id           tkout_time category\n",
       "19  DTB31  NMM15  2024-06-23 11:40:10      B:1\n",
       "20  DTB31  NMM17  2024-06-24 11:56:11      B:2\n",
       "21  DTB31  NMM17  2024-06-24 12:13:16      A:2\n",
       "22  DTB31  NMM15  2024-06-25 12:48:19      A:1\n",
       "23  DTB16  NMM74  2024-06-23 11:40:10      B:1\n",
       "24  DTB16  NMM62  2024-06-24 11:56:11      B:2\n",
       "25  DTB16  NMM62  2024-06-24 12:13:16      A:2\n",
       "26  DTB16  NMM74  2024-06-25 12:48:19      A:1\n",
       "28  DTB61  NMM13  2024-06-10 15:14:10      B:1\n",
       "30  DTC01  NMM18  2024-03-26 21:50:40      A:2"
      ]
     },
     "execution_count": 27,
     "metadata": {},
     "output_type": "execute_result"
    }
   ],
   "source": [
    "df_with_number"
   ]
  },
  {
   "cell_type": "code",
   "execution_count": 26,
   "metadata": {},
   "outputs": [
    {
     "data": {
      "text/plain": [
       "range(0, 10)"
      ]
     },
     "execution_count": 26,
     "metadata": {},
     "output_type": "execute_result"
    }
   ],
   "source": [
    "range(len(df_with_number))"
   ]
  },
  {
   "cell_type": "code",
   "execution_count": 29,
   "metadata": {},
   "outputs": [
    {
     "data": {
      "text/plain": [
       "eqp_id                      DTB31\n",
       "lot_id                      NMM15\n",
       "tkout_time    2024-06-23 11:40:10\n",
       "category                      B:1\n",
       "Name: 19, dtype: object"
      ]
     },
     "execution_count": 29,
     "metadata": {},
     "output_type": "execute_result"
    }
   ],
   "source": [
    "row = df_with_number.iloc[0]\n",
    "row"
   ]
  },
  {
   "cell_type": "code",
   "execution_count": 33,
   "metadata": {},
   "outputs": [],
   "source": [
    "if row['category'].startswith('B'):\n",
    "    current_b_with_number = row"
   ]
  },
  {
   "cell_type": "code",
   "execution_count": 34,
   "metadata": {},
   "outputs": [
    {
     "data": {
      "text/plain": [
       "eqp_id                      DTB31\n",
       "lot_id                      NMM15\n",
       "tkout_time    2024-06-23 11:40:10\n",
       "category                      B:1\n",
       "Name: 19, dtype: object"
      ]
     },
     "execution_count": 34,
     "metadata": {},
     "output_type": "execute_result"
    }
   ],
   "source": [
    "current_b_with_number"
   ]
  }
 ],
 "metadata": {
  "kernelspec": {
   "display_name": "Python 3",
   "language": "python",
   "name": "python3"
  },
  "language_info": {
   "codemirror_mode": {
    "name": "ipython",
    "version": 3
   },
   "file_extension": ".py",
   "mimetype": "text/x-python",
   "name": "python",
   "nbconvert_exporter": "python",
   "pygments_lexer": "ipython3",
   "version": "3.12.5"
  }
 },
 "nbformat": 4,
 "nbformat_minor": 2
}
